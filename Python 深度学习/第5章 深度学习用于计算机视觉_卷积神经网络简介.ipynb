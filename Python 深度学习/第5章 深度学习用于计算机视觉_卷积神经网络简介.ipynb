{
 "cells": [
  {
   "cell_type": "markdown",
   "metadata": {},
   "source": [
    "## 卷积神经网络简介"
   ]
  },
  {
   "cell_type": "markdown",
   "metadata": {},
   "source": [
    "#### 加载Keras中的MNIST的数据集"
   ]
  },
  {
   "cell_type": "code",
   "execution_count": 36,
   "metadata": {},
   "outputs": [],
   "source": [
    "from keras.datasets import mnist\n",
    "(train_images,train_labels),(test_images,test_labels)=mnist.load_data()"
   ]
  },
  {
   "cell_type": "code",
   "execution_count": 37,
   "metadata": {},
   "outputs": [
    {
     "name": "stdout",
     "output_type": "stream",
     "text": [
      "数据类型： uint8\n",
      "train_images是一个由32位整数组成的3D张量\n"
     ]
    }
   ],
   "source": [
    "print('数据类型：',train_images.dtype)\n",
    "print('train_images是一个由32位整数组成的3D张量')"
   ]
  },
  {
   "cell_type": "code",
   "execution_count": 38,
   "metadata": {},
   "outputs": [
    {
     "name": "stdout",
     "output_type": "stream",
     "text": [
      "训练图像 train_images : (60000, 28, 28)\n",
      "训练标签 train_labels 前5行: [5 0 4 1 9]\n",
      "*******************************************\n",
      "测试图像 test_images: (10000, 28, 28)\n",
      "测试标签 test_labels 前5行: [7 2 1 0 4]\n",
      "训练图像是60000个矩阵组成的数组，每个矩阵由28*28个整数组成。每个这样的矩阵都是一张灰度图像，元素取值范围为0-32位浮点数\n"
     ]
    }
   ],
   "source": [
    "print('训练图像 train_images :',train_images.shape)\n",
    "print(\"训练标签 train_labels 前5行:\",train_labels[0:5])\n",
    "print(\"*******************************************\")\n",
    "print('测试图像 test_images:',test_images.shape)\n",
    "print(\"测试标签 test_labels 前5行:\",test_labels[0:5])\n",
    "print('训练图像是60000个矩阵组成的数组，每个矩阵由28*28个整数组成。每个这样的矩阵都是一张灰度图像，元素取值范围为0-32位浮点数')"
   ]
  },
  {
   "cell_type": "markdown",
   "metadata": {},
   "source": [
    "#### 实例化一个小型的卷积神经网络"
   ]
  },
  {
   "cell_type": "code",
   "execution_count": 17,
   "metadata": {},
   "outputs": [],
   "source": [
    "from keras import layers\n",
    "from keras import models\n",
    "models=models.Sequential()\n",
    "models.add(layers.Conv2D(32,(3,3),activation='relu',input_shape=(28,28,1)))\n",
    "# 卷积神经网络接收的形状为（image_height,image_width,image_channels）的输入张量（不包括批量维度）\n",
    "# 通过input_shape=(28,28,1)来完成此设置\n",
    "models.add(layers.MaxPooling2D((2,2)))\n",
    "models.add(layers.Conv2D(64,(3,3),activation='relu'))\n",
    "models.add(layers.MaxPooling2D((2,2)))\n",
    "models.add(layers.Conv2D(64,(3,3),activation='relu'))"
   ]
  },
  {
   "cell_type": "markdown",
   "metadata": {},
   "source": [
    "##### 查看卷积神经网络的架构"
   ]
  },
  {
   "cell_type": "code",
   "execution_count": 18,
   "metadata": {},
   "outputs": [
    {
     "name": "stdout",
     "output_type": "stream",
     "text": [
      "_________________________________________________________________\n",
      "Layer (type)                 Output Shape              Param #   \n",
      "=================================================================\n",
      "conv2d_7 (Conv2D)            (None, 26, 26, 32)        320       \n",
      "_________________________________________________________________\n",
      "max_pooling2d_5 (MaxPooling2 (None, 13, 13, 32)        0         \n",
      "_________________________________________________________________\n",
      "conv2d_8 (Conv2D)            (None, 11, 11, 64)        18496     \n",
      "_________________________________________________________________\n",
      "max_pooling2d_6 (MaxPooling2 (None, 5, 5, 64)          0         \n",
      "_________________________________________________________________\n",
      "conv2d_9 (Conv2D)            (None, 3, 3, 64)          36928     \n",
      "=================================================================\n",
      "Total params: 55,744\n",
      "Trainable params: 55,744\n",
      "Non-trainable params: 0\n",
      "_________________________________________________________________\n",
      "可以看到，每个Conv2D 层和MaxPooling2D 层的输出都是一个形状为(height, width,channels) 的3D 张量。宽度和高度两个维度的尺寸通常会随着网络加深而变小。通道数量由传入Conv2D 层的第一个参数所控制（32 或64）。\n"
     ]
    }
   ],
   "source": [
    "models.summary()\n",
    "print('可以看到，每个Conv2D 层和MaxPooling2D 层的输出都是一个形状为(height, width,channels) 的3D 张量。宽度和高度两个维度的尺寸通常会随着网络加深而变小。通道数量由传入Conv2D 层的第一个参数所控制（32 或64）。')"
   ]
  },
  {
   "cell_type": "markdown",
   "metadata": {},
   "source": [
    "上述示例中,第一个卷积层接收一个大小为(28,28,1)的特征图，并输出一个大小\n",
    "为(26,26,32)的特征图，即它在输入上计算32个过滤器。对于这32个输出通道，\n",
    "每个通道都包含一个26×26的数值网络，它是过滤器对输入的响应图，表示这个过滤器\n",
    "模式在输入中不同位置的响应。"
   ]
  },
  {
   "cell_type": "markdown",
   "metadata": {},
   "source": [
    "#### 在卷积神经网络上添加分类器"
   ]
  },
  {
   "cell_type": "code",
   "execution_count": 19,
   "metadata": {},
   "outputs": [
    {
     "name": "stdout",
     "output_type": "stream",
     "text": [
      "将最后的输出张量［大小为(3, 3, 64)］输入到一个密集连接分类器网络中，即Dense 层的堆叠。这些分类器可以处理1D 向量，而当前的输出是3D 张量。首先，我们需要将3D 输出展平为1D，然后在上面添加几个Dense 层。\n"
     ]
    }
   ],
   "source": [
    "models.add(layers.Flatten())\n",
    "models.add(layers.Dense(64,activation='relu'))\n",
    "models.add(layers.Dense(10,activation='softmax'))\n",
    "print('将最后的输出张量［大小为(3, 3, 64)］输入到一个密集连接分类器网络中，即Dense 层的堆叠。这些分类器可以处理1D 向量，而当前的输出是3D 张量。首先，我们需要将3D 输出展平为1D，然后在上面添加几个Dense 层。')"
   ]
  },
  {
   "cell_type": "markdown",
   "metadata": {},
   "source": [
    "#### Flatten层用来将输入‘压平’,即把多维的输入一维化，常用在从卷积层到全连接层的过渡。"
   ]
  },
  {
   "cell_type": "code",
   "execution_count": 21,
   "metadata": {},
   "outputs": [
    {
     "name": "stdout",
     "output_type": "stream",
     "text": [
      "_________________________________________________________________\n",
      "Layer (type)                 Output Shape              Param #   \n",
      "=================================================================\n",
      "conv2d_7 (Conv2D)            (None, 26, 26, 32)        320       \n",
      "_________________________________________________________________\n",
      "max_pooling2d_5 (MaxPooling2 (None, 13, 13, 32)        0         \n",
      "_________________________________________________________________\n",
      "conv2d_8 (Conv2D)            (None, 11, 11, 64)        18496     \n",
      "_________________________________________________________________\n",
      "max_pooling2d_6 (MaxPooling2 (None, 5, 5, 64)          0         \n",
      "_________________________________________________________________\n",
      "conv2d_9 (Conv2D)            (None, 3, 3, 64)          36928     \n",
      "_________________________________________________________________\n",
      "flatten_4 (Flatten)          (None, 576)               0         \n",
      "_________________________________________________________________\n",
      "dense_3 (Dense)              (None, 64)                36928     \n",
      "_________________________________________________________________\n",
      "dense_4 (Dense)              (None, 10)                650       \n",
      "=================================================================\n",
      "Total params: 93,322\n",
      "Trainable params: 93,322\n",
      "Non-trainable params: 0\n",
      "_________________________________________________________________\n",
      "在进入两个Dense 层之前，形状(3, 3, 64) 的输出被展平为形状(576,) 的向量。\n"
     ]
    }
   ],
   "source": [
    "models.summary()\n",
    "print('在进入两个Dense 层之前，形状(3, 3, 64) 的输出被展平为形状(576,) 的向量。')"
   ]
  },
  {
   "cell_type": "code",
   "execution_count": 23,
   "metadata": {},
   "outputs": [
    {
     "name": "stdout",
     "output_type": "stream",
     "text": [
      "WARNING:tensorflow:From C:\\Users\\23691\\Anaconda3\\envs\\tensorflow\\lib\\site-packages\\tensorflow\\python\\ops\\math_ops.py:3066: to_int32 (from tensorflow.python.ops.math_ops) is deprecated and will be removed in a future version.\n",
      "Instructions for updating:\n",
      "Use tf.cast instead.\n",
      "Epoch 1/5\n",
      "60000/60000 [==============================] - 36s 597us/step - loss: 0.1739 - acc: 0.9454\n",
      "Epoch 2/5\n",
      "60000/60000 [==============================] - 39s 647us/step - loss: 0.0472 - acc: 0.9851\n",
      "Epoch 3/5\n",
      "60000/60000 [==============================] - 41s 675us/step - loss: 0.0320 - acc: 0.9898\n",
      "Epoch 4/5\n",
      "60000/60000 [==============================] - 41s 679us/step - loss: 0.0251 - acc: 0.9923\n",
      "Epoch 5/5\n",
      "60000/60000 [==============================] - 39s 649us/step - loss: 0.0184 - acc: 0.9941\n"
     ]
    },
    {
     "data": {
      "text/plain": [
       "<keras.callbacks.History at 0x254384c7eb8>"
      ]
     },
     "execution_count": 23,
     "metadata": {},
     "output_type": "execute_result"
    }
   ],
   "source": [
    "from keras.utils import to_categorical\n",
    "(train_images, train_labels), (test_images, test_labels) = mnist.load_data()\n",
    "train_images = train_images.reshape((60000, 28, 28, 1))\n",
    "train_images = train_images.astype('float32') / 255\n",
    "test_images = test_images.reshape((10000, 28, 28, 1))\n",
    "test_images = test_images.astype('float32') / 255\n",
    "train_labels = to_categorical(train_labels)\n",
    "test_labels = to_categorical(test_labels)\n",
    "models.compile(optimizer='rmsprop',\n",
    "loss='categorical_crossentropy',\n",
    "metrics=['accuracy'])\n",
    "models.fit(train_images, train_labels, epochs=5, batch_size=64)"
   ]
  },
  {
   "cell_type": "code",
   "execution_count": 25,
   "metadata": {},
   "outputs": [
    {
     "name": "stdout",
     "output_type": "stream",
     "text": [
      "10000/10000 [==============================] - 2s 211us/step\n"
     ]
    }
   ],
   "source": [
    "test_loss, test_acc = models.evaluate(test_images, test_labels)"
   ]
  },
  {
   "cell_type": "code",
   "execution_count": 27,
   "metadata": {},
   "outputs": [
    {
     "data": {
      "text/plain": [
       "0.9805"
      ]
     },
     "execution_count": 27,
     "metadata": {},
     "output_type": "execute_result"
    }
   ],
   "source": [
    "test_acc"
   ]
  }
 ],
 "metadata": {
  "kernelspec": {
   "display_name": "Python 3",
   "language": "python",
   "name": "python3"
  },
  "language_info": {
   "codemirror_mode": {
    "name": "ipython",
    "version": 3
   },
   "file_extension": ".py",
   "mimetype": "text/x-python",
   "name": "python",
   "nbconvert_exporter": "python",
   "pygments_lexer": "ipython3",
   "version": "3.7.0"
  }
 },
 "nbformat": 4,
 "nbformat_minor": 2
}
