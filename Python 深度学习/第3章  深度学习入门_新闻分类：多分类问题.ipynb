{
 "cells": [
  {
   "cell_type": "markdown",
   "metadata": {},
   "source": [
    "## 新闻分类：多分类问题 multiclas classification"
   ]
  },
  {
   "cell_type": "code",
   "execution_count": 1,
   "metadata": {},
   "outputs": [
    {
     "name": "stderr",
     "output_type": "stream",
     "text": [
      "Using TensorFlow backend.\n"
     ]
    },
    {
     "name": "stdout",
     "output_type": "stream",
     "text": [
      "Downloading data from https://s3.amazonaws.com/text-datasets/reuters.npz\n",
      "2113536/2110848 [==============================] - 35s 17us/step\n"
     ]
    }
   ],
   "source": [
    "# 使用路透社数据集,它包含46个不同的主题\n",
    "from keras.datasets import reuters\n",
    "(train_data,train_labels),(test_data,test_labels)=reuters.load_data(num_words=10000)"
   ]
  },
  {
   "cell_type": "code",
   "execution_count": 3,
   "metadata": {},
   "outputs": [
    {
     "name": "stdout",
     "output_type": "stream",
     "text": [
      "训练数据的行数： 8982\n",
      "测试数据的行数： 2246\n",
      "*********************************************************************\n",
      "训练数据第一行： [1, 2, 2, 8, 43, 10, 447, 5, 25, 207, 270, 5, 3095, 111, 16, 369, 186, 90, 67, 7, 89, 5, 19, 102, 6, 19, 124, 15, 90, 67, 84, 22, 482, 26, 7, 48, 4, 49, 8, 864, 39, 209, 154, 6, 151, 6, 83, 11, 15, 22, 155, 11, 15, 7, 48, 9, 4579, 1005, 504, 6, 258, 6, 272, 11, 15, 22, 134, 44, 11, 15, 16, 8, 197, 1245, 90, 67, 52, 29, 209, 30, 32, 132, 6, 109, 15, 17, 12]\n",
      "训练标签第一行： 3\n"
     ]
    }
   ],
   "source": [
    "print('训练数据的行数：',len(train_data))\n",
    "print('测试数据的行数：',len(test_data))\n",
    "print('*********************************************************************')\n",
    "print('训练数据第一行：',train_data[0])\n",
    "print('训练标签第一行：',train_labels[0])"
   ]
  },
  {
   "cell_type": "markdown",
   "metadata": {},
   "source": [
    "### 1、准备数据\n",
    "one-hot编码也叫为分类编码 categorical encoding"
   ]
  },
  {
   "cell_type": "code",
   "execution_count": 4,
   "metadata": {},
   "outputs": [],
   "source": [
    "# 将整数序列编码为二进制矩阵 one—hot编码\n",
    "import numpy as np\n",
    "def vectorize_sequences(sequences,dimension=10000):\n",
    "    results=np.zeros((len(sequences),dimension))\n",
    "    for i,sequence in enumerate(sequences):\n",
    "        results[i,sequence]=1.\n",
    "    return results\n",
    "\n",
    "x_train=vectorize_sequences(train_data) #将训练数据向量化\n",
    "x_test=vectorize_sequences(test_data)  # 将测试数据向量化"
   ]
  },
  {
   "cell_type": "code",
   "execution_count": 6,
   "metadata": {},
   "outputs": [],
   "source": [
    "# 对标签进行one-hot 编码，将每个标签表示为全零向量，只有标签索引对应的元素为1\n",
    "\n",
    "def to_one_hot(labels, dimension=46):\n",
    "    results = np.zeros((len(labels), dimension))\n",
    "    for i, label in enumerate(labels):\n",
    "        results[i, label] = 1.\n",
    "    return results\n",
    "one_hot_train_labels = to_one_hot(train_labels) # 将训练标签向量化\n",
    "one_hot_test_labels = to_one_hot(test_labels)  # 将测试标签向量化"
   ]
  },
  {
   "cell_type": "markdown",
   "metadata": {},
   "source": [
    "### 2、构建网络"
   ]
  },
  {
   "cell_type": "markdown",
   "metadata": {},
   "source": [
    "Dense层的堆叠，每层只能访问上一层输出的信息。如果某一层丢失了与分类问题相关的一些信息，那么这些信息无法被后面的层找回。也就是说，每一层都可能成为信息瓶颈。"
   ]
  },
  {
   "cell_type": "code",
   "execution_count": 9,
   "metadata": {},
   "outputs": [],
   "source": [
    "# 模型定义\n",
    "from keras import models\n",
    "from keras import layers\n",
    "model=models.Sequential() #序列模型（Sequential model）:一个线性的层次堆栈。通过传递一系列 layer 实例给构造器来创建一个序列模型\n",
    "model.add(layers.Dense(64,activation='relu',input_shape=(10000,)))\n",
    "model.add(layers.Dense(64,activation='relu'))\n",
    "model.add(layers.Dense(46,activation='softmax'))\n",
    "#编译模型\n",
    "model.compile(optimizer='rmsprop',loss='categorical_crossentropy',metrics=['accuracy'])"
   ]
  },
  {
   "cell_type": "markdown",
   "metadata": {},
   "source": [
    " 网络的最后一层是大小为 46 的 Dense 层。这意味着，对于每个输入样本，网络都会输\n",
    "出一个46 维向量。这个向量的每个元素（即每个维度）代表不同的输出类别。\n",
    "\n",
    " 最后一层使用了 softmax 激活。网络将输出在 46\n",
    "个不同输出类别上的概率分布——对于每一个输入样本，网络都会输出一个46 维向量，\n",
    "其中output[i] 是样本属于第i 个类别的概率。46 个概率的总和为1。\n",
    "\n",
    " 对于这个例子，最好的损失函数是categorical_crossentropy（分类交叉熵）。它用于衡量两个概率分布之间的距离，这里两个概率分布分别是网络输出的概率分布和标签的真实分\n",
    "布。通过将这两个分布的距离最小化，训练网络可使输出结果尽可能接近真实标签。"
   ]
  },
  {
   "cell_type": "markdown",
   "metadata": {},
   "source": [
    "### 3、验证你的方法"
   ]
  },
  {
   "cell_type": "code",
   "execution_count": 16,
   "metadata": {},
   "outputs": [
    {
     "name": "stdout",
     "output_type": "stream",
     "text": [
      "Train on 7982 samples, validate on 1000 samples\n",
      "Epoch 1/20\n",
      "7982/7982 [==============================] - 2s 274us/step - loss: 2.4983 - acc: 0.4920 - val_loss: 1.6846 - val_acc: 0.6450\n",
      "Epoch 2/20\n",
      "7982/7982 [==============================] - 1s 171us/step - loss: 1.3951 - acc: 0.7040 - val_loss: 1.2838 - val_acc: 0.7140\n",
      "Epoch 3/20\n",
      "7982/7982 [==============================] - 1s 176us/step - loss: 1.0514 - acc: 0.7694 - val_loss: 1.1196 - val_acc: 0.7640\n",
      "Epoch 4/20\n",
      "7982/7982 [==============================] - 1s 173us/step - loss: 0.8262 - acc: 0.8276 - val_loss: 1.0250 - val_acc: 0.7750\n",
      "Epoch 5/20\n",
      "7982/7982 [==============================] - ETA: 0s - loss: 0.6611 - acc: 0.8651- ETA: 0s - loss: 0.6681 - acc - 1s 174us/step - loss: 0.6613 - acc: 0.8638 - val_loss: 0.9728 - val_acc: 0.7960\n",
      "Epoch 6/20\n",
      "7982/7982 [==============================] - 1s 175us/step - loss: 0.5264 - acc: 0.8925 - val_loss: 0.9218 - val_acc: 0.8100\n",
      "Epoch 7/20\n",
      "7982/7982 [==============================] - 1s 174us/step - loss: 0.4304 - acc: 0.9113 - val_loss: 0.9119 - val_acc: 0.8030\n",
      "Epoch 8/20\n",
      "7982/7982 [==============================] - 2s 191us/step - loss: 0.3505 - acc: 0.9273 - val_loss: 0.8941 - val_acc: 0.8140\n",
      "Epoch 9/20\n",
      "7982/7982 [==============================] - 2s 191us/step - loss: 0.2905 - acc: 0.9379 - val_loss: 0.9155 - val_acc: 0.8060\n",
      "Epoch 10/20\n",
      "7982/7982 [==============================] - 1s 182us/step - loss: 0.2461 - acc: 0.9451 - val_loss: 0.9105 - val_acc: 0.8120\n",
      "Epoch 11/20\n",
      "7982/7982 [==============================] - 1s 182us/step - loss: 0.2114 - acc: 0.9484 - val_loss: 0.9510 - val_acc: 0.8100\n",
      "Epoch 12/20\n",
      "7982/7982 [==============================] - 1s 185us/step - loss: 0.1889 - acc: 0.9525 - val_loss: 0.9603 - val_acc: 0.8050\n",
      "Epoch 13/20\n",
      "7982/7982 [==============================] - ETA: 0s - loss: 0.1663 - acc: 0.952 - 1s 176us/step - loss: 0.1666 - acc: 0.9526 - val_loss: 0.9958 - val_acc: 0.7960\n",
      "Epoch 14/20\n",
      "7982/7982 [==============================] - 1s 186us/step - loss: 0.1541 - acc: 0.9548 - val_loss: 0.9755 - val_acc: 0.8040\n",
      "Epoch 15/20\n",
      "7982/7982 [==============================] - 1s 182us/step - loss: 0.1462 - acc: 0.9549 - val_loss: 1.0222 - val_acc: 0.7950\n",
      "Epoch 16/20\n",
      "7982/7982 [==============================] - 1s 181us/step - loss: 0.1338 - acc: 0.9555 - val_loss: 1.0384 - val_acc: 0.8020\n",
      "Epoch 17/20\n",
      "7982/7982 [==============================] - 2s 194us/step - loss: 0.1265 - acc: 0.9558 - val_loss: 1.0482 - val_acc: 0.7950\n",
      "Epoch 18/20\n",
      "7982/7982 [==============================] - 2s 220us/step - loss: 0.1176 - acc: 0.9564 - val_loss: 1.0357 - val_acc: 0.8140\n",
      "Epoch 19/20\n",
      "7982/7982 [==============================] - 2s 206us/step - loss: 0.1169 - acc: 0.9568 - val_loss: 1.0283 - val_acc: 0.8070\n",
      "Epoch 20/20\n",
      "7982/7982 [==============================] - 2s 245us/step - loss: 0.1143 - acc: 0.9575 - val_loss: 1.0486 - val_acc: 0.8040\n"
     ]
    }
   ],
   "source": [
    "# 留出验证集\n",
    "x_val=x_train[:1000]\n",
    "partial_x_train=x_train[1000:]\n",
    "\n",
    "y_val=one_hot_train_labels[:1000]\n",
    "partial_y_train=one_hot_train_labels[1000:]\n",
    "\n",
    "# 训练模型\n",
    "history=model.fit(partial_x_train,\n",
    "                 partial_y_train,\n",
    "                 epochs=20,\n",
    "                 batch_size=512,\n",
    "                 validation_data=(x_val, y_val))"
   ]
  },
  {
   "cell_type": "code",
   "execution_count": 18,
   "metadata": {},
   "outputs": [
    {
     "data": {
      "image/png": "[encoded data removed]",
      "text/plain": [
       "<Figure size 432x288 with 1 Axes>"
      ]
     },
     "metadata": {
      "needs_background": "light"
     },
     "output_type": "display_data"
    }
   ],
   "source": [
    "import matplotlib.pyplot as plt\n",
    "loss = history.history['loss']\n",
    "val_loss = history.history['val_loss']\n",
    "epochs = range(1, len(loss) + 1)\n",
    "plt.plot(epochs, loss, 'bo', label='Training loss')\n",
    "plt.plot(epochs, val_loss, 'b', label='Validation loss')\n",
    "plt.title('Training and validation loss')\n",
    "plt.xlabel('Epochs')\n",
    "plt.ylabel('Loss')\n",
    "plt.legend()\n",
    "plt.show()"
   ]
  },
  {
   "cell_type": "code",
   "execution_count": 19,
   "metadata": {},
   "outputs": [
    {
     "data": {
      "text/plain": [
       "<function matplotlib.pyplot.show(*args, **kw)>"
      ]
     },
     "execution_count": 19,
     "metadata": {},
     "output_type": "execute_result"
    },
    {
     "data": {
      "image/png": "[encoded data removed]",
      "text/plain": [
       "<Figure size 432x288 with 1 Axes>"
      ]
     },
     "metadata": {
      "needs_background": "light"
     },
     "output_type": "display_data"
    }
   ],
   "source": [
    "acc = history.history['acc']\n",
    "val_acc = history.history['val_acc']\n",
    "plt.plot(epochs, acc, 'bo', label='Training acc')\n",
    "plt.plot(epochs, val_acc, 'b', label='Validation acc')\n",
    "plt.title('Training and validation accuracy')\n",
    "plt.xlabel('Epochs')\n",
    "plt.ylabel('Accuracy')\n",
    "plt.legend()\n",
    "plt.show"
   ]
  },
  {
   "cell_type": "markdown",
   "metadata": {},
   "source": [
    "##### 网络在训练9 轮后开始过拟合。我们从头开始训练一个新网络，共9 个轮次，然后在测试集上评估模型"
   ]
  },
  {
   "cell_type": "markdown",
   "metadata": {},
   "source": [
    "### 从头开始重新训练一个模型"
   ]
  },
  {
   "cell_type": "code",
   "execution_count": 20,
   "metadata": {},
   "outputs": [
    {
     "name": "stdout",
     "output_type": "stream",
     "text": [
      "Train on 7982 samples, validate on 1000 samples\n",
      "Epoch 1/9\n",
      "7982/7982 [==============================] - 2s 228us/step - loss: 2.5415 - acc: 0.5231 - val_loss: 1.6819 - val_acc: 0.6510\n",
      "Epoch 2/9\n",
      "7982/7982 [==============================] - 1s 168us/step - loss: 1.3804 - acc: 0.7091 - val_loss: 1.2831 - val_acc: 0.7210\n",
      "Epoch 3/9\n",
      "7982/7982 [==============================] - 1s 169us/step - loss: 1.0223 - acc: 0.7767 - val_loss: 1.1322 - val_acc: 0.7490\n",
      "Epoch 4/9\n",
      "7982/7982 [==============================] - 1s 185us/step - loss: 0.8041 - acc: 0.8239 - val_loss: 1.0535 - val_acc: 0.7600\n",
      "Epoch 5/9\n",
      "7982/7982 [==============================] - 1s 188us/step - loss: 0.6437 - acc: 0.8623 - val_loss: 0.9754 - val_acc: 0.79700s - loss: 0.6503 - acc\n",
      "Epoch 6/9\n",
      "7982/7982 [==============================] - 1s 177us/step - loss: 0.5152 - acc: 0.8923 - val_loss: 0.9119 - val_acc: 0.8120\n",
      "Epoch 7/9\n",
      "7982/7982 [==============================] - 1s 183us/step - loss: 0.4145 - acc: 0.9142 - val_loss: 0.8955 - val_acc: 0.8230\n",
      "Epoch 8/9\n",
      "7982/7982 [==============================] - 1s 183us/step - loss: 0.3375 - acc: 0.9277 - val_loss: 0.8753 - val_acc: 0.8280\n",
      "Epoch 9/9\n",
      "7982/7982 [==============================] - 1s 187us/step - loss: 0.2799 - acc: 0.9366 - val_loss: 0.9423 - val_acc: 0.8000\n",
      "2246/2246 [==============================] - 1s 258us/step\n"
     ]
    },
    {
     "data": {
      "text/plain": [
       "[1.0244741541725764, 0.7756010686194165]"
      ]
     },
     "execution_count": 20,
     "metadata": {},
     "output_type": "execute_result"
    }
   ],
   "source": [
    "model = models.Sequential()\n",
    "model.add(layers.Dense(64, activation='relu', input_shape=(10000,)))\n",
    "model.add(layers.Dense(64, activation='relu'))\n",
    "model.add(layers.Dense(46, activation='softmax'))\n",
    "model.compile(optimizer='rmsprop',\n",
    "loss='categorical_crossentropy',\n",
    "metrics=['accuracy'])\n",
    "model.fit(partial_x_train,\n",
    "partial_y_train,\n",
    "epochs=9,\n",
    "batch_size=512,\n",
    "validation_data=(x_val, y_val))\n",
    "results = model.evaluate(x_test, one_hot_test_labels)\n",
    "results"
   ]
  },
  {
   "cell_type": "markdown",
   "metadata": {},
   "source": [
    "### 在新数据上生成预测结果"
   ]
  },
  {
   "cell_type": "code",
   "execution_count": 21,
   "metadata": {},
   "outputs": [],
   "source": [
    "predictions = model.predict(x_test)"
   ]
  },
  {
   "cell_type": "code",
   "execution_count": 22,
   "metadata": {},
   "outputs": [
    {
     "data": {
      "text/plain": [
       "(46,)"
      ]
     },
     "execution_count": 22,
     "metadata": {},
     "output_type": "execute_result"
    }
   ],
   "source": [
    "# predictions中每个元素都是长度为46的向量\n",
    "predictions[0].shape"
   ]
  },
  {
   "cell_type": "code",
   "execution_count": 23,
   "metadata": {},
   "outputs": [
    {
     "data": {
      "text/plain": [
       "0.9999996"
      ]
     },
     "execution_count": 23,
     "metadata": {},
     "output_type": "execute_result"
    }
   ],
   "source": [
    "# 向量的所有元素总和为1\n",
    "np.sum(predictions[0])"
   ]
  },
  {
   "cell_type": "code",
   "execution_count": 24,
   "metadata": {},
   "outputs": [
    {
     "data": {
      "text/plain": [
       "3"
      ]
     },
     "execution_count": 24,
     "metadata": {},
     "output_type": "execute_result"
    }
   ],
   "source": [
    "# 最大的元素就是预测类别，及概率最大的类别\n",
    "np.argmax(predictions[0])"
   ]
  }
 ],
 "metadata": {
  "kernelspec": {
   "display_name": "Python 3",
   "language": "python",
   "name": "python3"
  },
  "language_info": {
   "codemirror_mode": {
    "name": "ipython",
    "version": 3
   },
   "file_extension": ".py",
   "mimetype": "text/x-python",
   "name": "python",
   "nbconvert_exporter": "python",
   "pygments_lexer": "ipython3",
   "version": "3.6.8"
  }
 },
 "nbformat": 4,
 "nbformat_minor": 2
}
